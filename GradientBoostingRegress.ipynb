{
  "nbformat": 4,
  "nbformat_minor": 0,
  "metadata": {
    "colab": {
      "provenance": [],
      "collapsed_sections": [
        "z_VTW6sVkO6z",
        "SHMHapYqka2y",
        "7RO2sETdlbp2",
        "QJm5gMLgnOwK",
        "e2GVX5H2m-Y1",
        "HC2lL-kinjEm"
      ],
      "authorship_tag": "ABX9TyP82SsZnqD8SnSxd8EuVutE",
      "include_colab_link": true
    },
    "kernelspec": {
      "name": "python3",
      "display_name": "Python 3"
    },
    "language_info": {
      "name": "python"
    }
  },
  "cells": [
    {
      "cell_type": "markdown",
      "metadata": {
        "id": "view-in-github",
        "colab_type": "text"
      },
      "source": [
        "<a href=\"https://colab.research.google.com/github/Anwesha-code/LaunchEd_CapstoneProject/blob/main/GradientBoostingRegress.ipynb\" target=\"_parent\"><img src=\"https://colab.research.google.com/assets/colab-badge.svg\" alt=\"Open In Colab\"/></a>"
      ]
    },
    {
      "cell_type": "markdown",
      "source": [
        "**Project Overview:** Business Problem: To ensure there is no discrimination between employees, it is imperative for the Human Resources department of Company X to maintain a salary range for each employee with a similar profile. Apart from the existing salary, a considerable number of factors, such as an employee’s experience and other abilities, are evaluated during interviews. Given the data related to individuals who applied to Company X, models can be built that automatically determine the salary to be offered if a prospective candidate is selected. This model seeks to minimize human judgment in salary decisions.\n",
        "\n",
        "---\n",
        "**Goal & Objective:** The objective of this exercise is to build a model, using historical data, that will determine the salary to be offered to an employee, minimizing manual judgment in the selection process. The approach aims to be robust and eliminate any discrimination in salary among employees with similar profiles.\n"
      ],
      "metadata": {
        "id": "kSYkPSbBj9li"
      }
    },
    {
      "cell_type": "markdown",
      "source": [
        "### **✅UPLOADING THE EXCEL(DATASET) FILE AS PROVIDED**"
      ],
      "metadata": {
        "id": "z_VTW6sVkO6z"
      }
    },
    {
      "cell_type": "markdown",
      "source": [
        "We were provided with the dataset with name 'exprcted_ctc'. To use a model, we must upload the dataset as the first step."
      ],
      "metadata": {
        "id": "3aL7NffzkTuc"
      }
    },
    {
      "cell_type": "code",
      "execution_count": null,
      "metadata": {
        "colab": {
          "base_uri": "https://localhost:8080/",
          "height": 73
        },
        "id": "9SSMk5mgmjry",
        "outputId": "9dc066b7-bb0c-41e7-ff9d-14c15c1c4cf1"
      },
      "outputs": [
        {
          "output_type": "display_data",
          "data": {
            "text/plain": [
              "<IPython.core.display.HTML object>"
            ],
            "text/html": [
              "\n",
              "     <input type=\"file\" id=\"files-caed694f-34ee-404f-b67e-f05c950a5fcd\" name=\"files[]\" multiple disabled\n",
              "        style=\"border:none\" />\n",
              "     <output id=\"result-caed694f-34ee-404f-b67e-f05c950a5fcd\">\n",
              "      Upload widget is only available when the cell has been executed in the\n",
              "      current browser session. Please rerun this cell to enable.\n",
              "      </output>\n",
              "      <script>// Copyright 2017 Google LLC\n",
              "//\n",
              "// Licensed under the Apache License, Version 2.0 (the \"License\");\n",
              "// you may not use this file except in compliance with the License.\n",
              "// You may obtain a copy of the License at\n",
              "//\n",
              "//      http://www.apache.org/licenses/LICENSE-2.0\n",
              "//\n",
              "// Unless required by applicable law or agreed to in writing, software\n",
              "// distributed under the License is distributed on an \"AS IS\" BASIS,\n",
              "// WITHOUT WARRANTIES OR CONDITIONS OF ANY KIND, either express or implied.\n",
              "// See the License for the specific language governing permissions and\n",
              "// limitations under the License.\n",
              "\n",
              "/**\n",
              " * @fileoverview Helpers for google.colab Python module.\n",
              " */\n",
              "(function(scope) {\n",
              "function span(text, styleAttributes = {}) {\n",
              "  const element = document.createElement('span');\n",
              "  element.textContent = text;\n",
              "  for (const key of Object.keys(styleAttributes)) {\n",
              "    element.style[key] = styleAttributes[key];\n",
              "  }\n",
              "  return element;\n",
              "}\n",
              "\n",
              "// Max number of bytes which will be uploaded at a time.\n",
              "const MAX_PAYLOAD_SIZE = 100 * 1024;\n",
              "\n",
              "function _uploadFiles(inputId, outputId) {\n",
              "  const steps = uploadFilesStep(inputId, outputId);\n",
              "  const outputElement = document.getElementById(outputId);\n",
              "  // Cache steps on the outputElement to make it available for the next call\n",
              "  // to uploadFilesContinue from Python.\n",
              "  outputElement.steps = steps;\n",
              "\n",
              "  return _uploadFilesContinue(outputId);\n",
              "}\n",
              "\n",
              "// This is roughly an async generator (not supported in the browser yet),\n",
              "// where there are multiple asynchronous steps and the Python side is going\n",
              "// to poll for completion of each step.\n",
              "// This uses a Promise to block the python side on completion of each step,\n",
              "// then passes the result of the previous step as the input to the next step.\n",
              "function _uploadFilesContinue(outputId) {\n",
              "  const outputElement = document.getElementById(outputId);\n",
              "  const steps = outputElement.steps;\n",
              "\n",
              "  const next = steps.next(outputElement.lastPromiseValue);\n",
              "  return Promise.resolve(next.value.promise).then((value) => {\n",
              "    // Cache the last promise value to make it available to the next\n",
              "    // step of the generator.\n",
              "    outputElement.lastPromiseValue = value;\n",
              "    return next.value.response;\n",
              "  });\n",
              "}\n",
              "\n",
              "/**\n",
              " * Generator function which is called between each async step of the upload\n",
              " * process.\n",
              " * @param {string} inputId Element ID of the input file picker element.\n",
              " * @param {string} outputId Element ID of the output display.\n",
              " * @return {!Iterable<!Object>} Iterable of next steps.\n",
              " */\n",
              "function* uploadFilesStep(inputId, outputId) {\n",
              "  const inputElement = document.getElementById(inputId);\n",
              "  inputElement.disabled = false;\n",
              "\n",
              "  const outputElement = document.getElementById(outputId);\n",
              "  outputElement.innerHTML = '';\n",
              "\n",
              "  const pickedPromise = new Promise((resolve) => {\n",
              "    inputElement.addEventListener('change', (e) => {\n",
              "      resolve(e.target.files);\n",
              "    });\n",
              "  });\n",
              "\n",
              "  const cancel = document.createElement('button');\n",
              "  inputElement.parentElement.appendChild(cancel);\n",
              "  cancel.textContent = 'Cancel upload';\n",
              "  const cancelPromise = new Promise((resolve) => {\n",
              "    cancel.onclick = () => {\n",
              "      resolve(null);\n",
              "    };\n",
              "  });\n",
              "\n",
              "  // Wait for the user to pick the files.\n",
              "  const files = yield {\n",
              "    promise: Promise.race([pickedPromise, cancelPromise]),\n",
              "    response: {\n",
              "      action: 'starting',\n",
              "    }\n",
              "  };\n",
              "\n",
              "  cancel.remove();\n",
              "\n",
              "  // Disable the input element since further picks are not allowed.\n",
              "  inputElement.disabled = true;\n",
              "\n",
              "  if (!files) {\n",
              "    return {\n",
              "      response: {\n",
              "        action: 'complete',\n",
              "      }\n",
              "    };\n",
              "  }\n",
              "\n",
              "  for (const file of files) {\n",
              "    const li = document.createElement('li');\n",
              "    li.append(span(file.name, {fontWeight: 'bold'}));\n",
              "    li.append(span(\n",
              "        `(${file.type || 'n/a'}) - ${file.size} bytes, ` +\n",
              "        `last modified: ${\n",
              "            file.lastModifiedDate ? file.lastModifiedDate.toLocaleDateString() :\n",
              "                                    'n/a'} - `));\n",
              "    const percent = span('0% done');\n",
              "    li.appendChild(percent);\n",
              "\n",
              "    outputElement.appendChild(li);\n",
              "\n",
              "    const fileDataPromise = new Promise((resolve) => {\n",
              "      const reader = new FileReader();\n",
              "      reader.onload = (e) => {\n",
              "        resolve(e.target.result);\n",
              "      };\n",
              "      reader.readAsArrayBuffer(file);\n",
              "    });\n",
              "    // Wait for the data to be ready.\n",
              "    let fileData = yield {\n",
              "      promise: fileDataPromise,\n",
              "      response: {\n",
              "        action: 'continue',\n",
              "      }\n",
              "    };\n",
              "\n",
              "    // Use a chunked sending to avoid message size limits. See b/62115660.\n",
              "    let position = 0;\n",
              "    do {\n",
              "      const length = Math.min(fileData.byteLength - position, MAX_PAYLOAD_SIZE);\n",
              "      const chunk = new Uint8Array(fileData, position, length);\n",
              "      position += length;\n",
              "\n",
              "      const base64 = btoa(String.fromCharCode.apply(null, chunk));\n",
              "      yield {\n",
              "        response: {\n",
              "          action: 'append',\n",
              "          file: file.name,\n",
              "          data: base64,\n",
              "        },\n",
              "      };\n",
              "\n",
              "      let percentDone = fileData.byteLength === 0 ?\n",
              "          100 :\n",
              "          Math.round((position / fileData.byteLength) * 100);\n",
              "      percent.textContent = `${percentDone}% done`;\n",
              "\n",
              "    } while (position < fileData.byteLength);\n",
              "  }\n",
              "\n",
              "  // All done.\n",
              "  yield {\n",
              "    response: {\n",
              "      action: 'complete',\n",
              "    }\n",
              "  };\n",
              "}\n",
              "\n",
              "scope.google = scope.google || {};\n",
              "scope.google.colab = scope.google.colab || {};\n",
              "scope.google.colab._files = {\n",
              "  _uploadFiles,\n",
              "  _uploadFilesContinue,\n",
              "};\n",
              "})(self);\n",
              "</script> "
            ]
          },
          "metadata": {}
        },
        {
          "output_type": "stream",
          "name": "stdout",
          "text": [
            "Saving expected_ctc.csv to expected_ctc.csv\n"
          ]
        }
      ],
      "source": [
        "from google.colab import files\n",
        "uploaded = files.upload()"
      ]
    },
    {
      "cell_type": "code",
      "source": [
        "import pandas as pd\n",
        "import seaborn as sns\n",
        "import matplotlib.pyplot as plt\n",
        "df = pd.read_csv('expected_ctc.csv')\n",
        "print(df.shape)\n",
        "print(df.count())\n",
        "\n",
        "\n",
        "print(df.nunique())\n",
        "print(df.head(10))"
      ],
      "metadata": {
        "colab": {
          "base_uri": "https://localhost:8080/"
        },
        "id": "yOEm9NRHm0dE",
        "outputId": "92bf59fc-2a0d-4e1e-ef7e-46a1720b9f9a"
      },
      "execution_count": null,
      "outputs": [
        {
          "output_type": "stream",
          "name": "stdout",
          "text": [
            "(25000, 29)\n",
            "IDX                                  25000\n",
            "Applicant_ID                         25000\n",
            "Total_Experience                     25000\n",
            "Total_Experience_in_field_applied    25000\n",
            "Department                           22222\n",
            "Role                                 24037\n",
            "Industry                             24092\n",
            "Organization                         24092\n",
            "Designation                          21871\n",
            "Education                            25000\n",
            "Graduation_Specialization            18820\n",
            "University_Grad                      18820\n",
            "Passing_Year_Of_Graduation           18820\n",
            "PG_Specialization                    17308\n",
            "University_PG                        17308\n",
            "Passing_Year_Of_PG                   17308\n",
            "PHD_Specialization                   13119\n",
            "University_PHD                       13119\n",
            "Passing_Year_Of_PHD                  13119\n",
            "Curent_Location                      25000\n",
            "Preferred_location                   25000\n",
            "Current_CTC                          25000\n",
            "Inhand_Offer                         25000\n",
            "Last_Appraisal_Rating                24092\n",
            "No_Of_Companies_worked               25000\n",
            "Number_of_Publications               25000\n",
            "Certifications                       25000\n",
            "International_degree_any             25000\n",
            "Expected_CTC                         25000\n",
            "dtype: int64\n",
            "IDX                                  25000\n",
            "Applicant_ID                         19766\n",
            "Total_Experience                        26\n",
            "Total_Experience_in_field_applied       26\n",
            "Department                              12\n",
            "Role                                    24\n",
            "Industry                                11\n",
            "Organization                            16\n",
            "Designation                             18\n",
            "Education                                4\n",
            "Graduation_Specialization               11\n",
            "University_Grad                         13\n",
            "Passing_Year_Of_Graduation              35\n",
            "PG_Specialization                       11\n",
            "University_PG                           13\n",
            "Passing_Year_Of_PG                      36\n",
            "PHD_Specialization                      11\n",
            "University_PHD                          13\n",
            "Passing_Year_Of_PHD                     26\n",
            "Curent_Location                         15\n",
            "Preferred_location                      15\n",
            "Current_CTC                          23992\n",
            "Inhand_Offer                             2\n",
            "Last_Appraisal_Rating                    5\n",
            "No_Of_Companies_worked                   7\n",
            "Number_of_Publications                   9\n",
            "Certifications                           6\n",
            "International_degree_any                 2\n",
            "Expected_CTC                         24913\n",
            "dtype: int64\n",
            "   IDX  Applicant_ID  Total_Experience  Total_Experience_in_field_applied  \\\n",
            "0    1         22753                 0                                  0   \n",
            "1    2         51087                23                                 14   \n",
            "2    3         38413                21                                 12   \n",
            "3    4         11501                15                                  8   \n",
            "4    5         58941                10                                  5   \n",
            "5    6         30564                16                                  3   \n",
            "6    7         27267                 1                                  1   \n",
            "7    8         36521                19                                 11   \n",
            "8    9         11616                 8                                  7   \n",
            "9   10         43886                15                                 15   \n",
            "\n",
            "       Department                Role   Industry Organization  \\\n",
            "0             NaN                 NaN        NaN          NaN   \n",
            "1              HR          Consultant  Analytics            H   \n",
            "2  Top Management          Consultant   Training            J   \n",
            "3         Banking   Financial Analyst   Aviation            F   \n",
            "4           Sales     Project Manager  Insurance            E   \n",
            "5  Top Management  Area Sales Manager     Retail            G   \n",
            "6     Engineering           Team Lead       FMCG            L   \n",
            "7          Others             Analyst     Others            E   \n",
            "8    Analytics/BI              Others    Telecom            L   \n",
            "9    Analytics/BI                 CEO    Telecom            M   \n",
            "\n",
            "         Designation  Education  ... Curent_Location Preferred_location  \\\n",
            "0                NaN         PG  ...        Guwahati               Pune   \n",
            "1                 HR  Doctorate  ...       Bangalore             Nagpur   \n",
            "2                NaN  Doctorate  ...       Ahmedabad             Jaipur   \n",
            "3                 HR  Doctorate  ...          Kanpur            Kolkata   \n",
            "4    Medical Officer       Grad  ...       Ahmedabad          Ahmedabad   \n",
            "5           Director  Doctorate  ...            Pune        Bhubaneswar   \n",
            "6  Marketing Manager       Grad  ...           Delhi               Pune   \n",
            "7            Manager         PG  ...           Surat          Bangalore   \n",
            "8  Marketing Manager  Doctorate  ...          Nagpur           Guwahati   \n",
            "9    Product Manager  Doctorate  ...       Bangalore        Bhubaneswar   \n",
            "\n",
            "   Current_CTC Inhand_Offer Last_Appraisal_Rating  No_Of_Companies_worked  \\\n",
            "0            0            N                   NaN                       0   \n",
            "1      2702664            Y         Key_Performer                       2   \n",
            "2      2236661            Y         Key_Performer                       5   \n",
            "3      2100510            N                     C                       5   \n",
            "4      1931644            N                     C                       2   \n",
            "5      3511167            Y                     C                       5   \n",
            "6       492917            Y                     B                       3   \n",
            "7      2693459            N                     C                       6   \n",
            "8      1630225            N                     A                       6   \n",
            "9      1761797            Y                     A                       5   \n",
            "\n",
            "  Number_of_Publications Certifications  International_degree_any Expected_CTC  \n",
            "0                      0              0                         0       384551  \n",
            "1                      4              0                         0      3783729  \n",
            "2                      3              0                         0      3131325  \n",
            "3                      3              0                         0      2608833  \n",
            "4                      3              0                         0      2221390  \n",
            "5                      4              0                         0      4522383  \n",
            "6                      3              0                         0       630933  \n",
            "7                      1              1                         0      3221376  \n",
            "8                      6              0                         0      2288835  \n",
            "9                      6              0                         1      2466515  \n",
            "\n",
            "[10 rows x 29 columns]\n"
          ]
        }
      ]
    },
    {
      "cell_type": "markdown",
      "source": [
        "MAJOR OBSERVATIONS IN THE DATASET\n",
        "\n",
        "There are many categorical features in the given dataset.\n",
        "Some features(like Organization, University_Grad) are likely to have a very high cardinality.\n",
        "Strong predictors are- Total_Experience, Current_CTC, Certifications\n",
        "There are a lot of NA values or missing values.\n",
        "\n",
        "---\n",
        "\n"
      ],
      "metadata": {
        "id": "-loVM9ngkX3k"
      }
    },
    {
      "cell_type": "markdown",
      "source": [
        "### **✅CLEANING THE DATASET**"
      ],
      "metadata": {
        "id": "SHMHapYqka2y"
      }
    },
    {
      "cell_type": "markdown",
      "source": [
        "Fixing, or removing incorrect, incomplete, or irrelevent data before training the model.\n",
        "\n",
        "---\n",
        "*   Replace null values or empty strings\n",
        "*   Create derived features as required\n",
        "*   Dropping any unecessary columns\n",
        "*   Filling any missing values\n",
        "*   Encode categorical or binary columns (there are many categorical features.)\n",
        "*   One hot encode other categorical variables\n",
        "\n"
      ],
      "metadata": {
        "id": "NMaMsx62kk6X"
      }
    },
    {
      "cell_type": "code",
      "source": [
        "import numpy as np\n",
        "import pandas as pd\n",
        "\n",
        "df.replace(['NA', ''], np.nan, inplace=True)                 #Replace NA and empty strings\n",
        "\n",
        "if 'Passing_Year_Of_Graduation' in df.columns:                  #Create derived features\n",
        "    df['Years_Since_Grad'] = 2025 - df['Passing_Year_Of_Graduation'].astype(float)\n",
        "\n",
        "if 'Passing_Year_Of_PG' in df.columns:\n",
        "    df['Years_Since_PG'] = 2025 - df['Passing_Year_Of_PG'].astype(float)\n",
        "\n",
        "columns_to_drop = [                            #Drop unecessary columns\n",
        "    'IDX', 'Applicant_ID', 'Organization',\n",
        "    'University_Grad', 'University_PG', 'University_PHD',\n",
        "    'PHD_Specialization', 'Passing_Year_Of_PHD',\n",
        "    'Passing_Year_Of_Graduation', 'Passing_Year_Of_PG',\n",
        "    'Number_of_Publications']\n",
        "existing_cols = [col for col in columns_to_drop if col in df.columns]\n",
        "df.drop(columns=existing_cols, inplace=True)\n",
        "\n",
        "    #Filling missing values\n",
        "df['Total_Experience'] = df['Total_Experience'].fillna(df['Total_Experience'].median())\n",
        "df['Certifications'] = df['Certifications'].fillna(0)\n",
        "df['Role'] = df['Role'].fillna('Unknown')\n",
        "df['Education'] = df['Education'].fillna('Grad')\n",
        "\n",
        "df['Inhand_Offer'] = df['Inhand_Offer'].map({'Y': 1, 'N': 0})          #Encode categorical or binary columns\n",
        "df['International_degree_any'] = df['International_degree_any'].astype(int)\n",
        "\n",
        "rating_map = {'A': 3, 'B': 2, 'C': 1, 'Key_Performer': 4}\n",
        "df['Last_Appraisal_Rating'] = df['Last_Appraisal_Rating'].map(rating_map)\n",
        "\n",
        "df = pd.get_dummies(df, columns=[             #One hot encode any other categorical variables\n",
        "    'Department', 'Role', 'Industry', 'Designation',\n",
        "    'Education', 'Graduation_Specialization', 'PG_Specialization'], drop_first=True)\n",
        "\n",
        "\n",
        "print(df.isnull().sum())\n",
        "\n",
        "df.drop(columns=['Curent_Location', 'Preferred_location'], inplace=True)        #Drop unneeded location columns\n",
        "\n",
        "df['Last_Appraisal_Rating'] = df['Last_Appraisal_Rating'].fillna(df['Last_Appraisal_Rating'].median())    # Fill missing values in ratings\n",
        "df['Years_Since_Grad'] = df['Years_Since_Grad'].fillna(df['Years_Since_Grad'].median())\n",
        "df['Years_Since_PG'] = df['Years_Since_PG'].fillna(df['Years_Since_PG'].median())\n",
        "df.rename(columns={'Curent_Location': 'Current_Location'}, inplace=True)\n",
        "\n",
        "low_freq_cols = [col for col in df.columns if df[col].dtype == 'bool' and df[col].sum() < (0.005 * len(df))]         # Drop very sparse one-hot encoded features (optional)\n",
        "df.drop(columns=low_freq_cols, inplace=True)\n",
        "\n",
        "print(df.duplicated().sum())\n",
        "df.drop_duplicates(inplace=True)\n",
        "print(df.info())\n",
        "print(df.isnull().sum())\n",
        "print(df.head())"
      ],
      "metadata": {
        "colab": {
          "base_uri": "https://localhost:8080/"
        },
        "id": "SBdHfJ87m88O",
        "outputId": "976bfa17-7acf-477c-8049-35084031375a"
      },
      "execution_count": null,
      "outputs": [
        {
          "output_type": "stream",
          "name": "stdout",
          "text": [
            "Total_Experience                     0\n",
            "Total_Experience_in_field_applied    0\n",
            "Curent_Location                      0\n",
            "Preferred_location                   0\n",
            "Current_CTC                          0\n",
            "                                    ..\n",
            "PG_Specialization_Others             0\n",
            "PG_Specialization_Psychology         0\n",
            "PG_Specialization_Sociology          0\n",
            "PG_Specialization_Statistics         0\n",
            "PG_Specialization_Zoology            0\n",
            "Length: 98, dtype: int64\n",
            "0\n",
            "<class 'pandas.core.frame.DataFrame'>\n",
            "RangeIndex: 25000 entries, 0 to 24999\n",
            "Data columns (total 90 columns):\n",
            " #   Column                                 Non-Null Count  Dtype  \n",
            "---  ------                                 --------------  -----  \n",
            " 0   Total_Experience                       25000 non-null  int64  \n",
            " 1   Total_Experience_in_field_applied      25000 non-null  int64  \n",
            " 2   Current_CTC                            25000 non-null  int64  \n",
            " 3   Inhand_Offer                           25000 non-null  int64  \n",
            " 4   Last_Appraisal_Rating                  25000 non-null  float64\n",
            " 5   No_Of_Companies_worked                 25000 non-null  int64  \n",
            " 6   Certifications                         25000 non-null  int64  \n",
            " 7   International_degree_any               25000 non-null  int64  \n",
            " 8   Expected_CTC                           25000 non-null  int64  \n",
            " 9   Years_Since_Grad                       25000 non-null  float64\n",
            " 10  Years_Since_PG                         25000 non-null  float64\n",
            " 11  Department_Analytics/BI                25000 non-null  bool   \n",
            " 12  Department_Banking                     25000 non-null  bool   \n",
            " 13  Department_Education                   25000 non-null  bool   \n",
            " 14  Department_Engineering                 25000 non-null  bool   \n",
            " 15  Department_HR                          25000 non-null  bool   \n",
            " 16  Department_Healthcare                  25000 non-null  bool   \n",
            " 17  Department_IT-Software                 25000 non-null  bool   \n",
            " 18  Department_Marketing                   25000 non-null  bool   \n",
            " 19  Department_Others                      25000 non-null  bool   \n",
            " 20  Department_Sales                       25000 non-null  bool   \n",
            " 21  Department_Top Management              25000 non-null  bool   \n",
            " 22  Role_Area Sales Manager                25000 non-null  bool   \n",
            " 23  Role_Associate                         25000 non-null  bool   \n",
            " 24  Role_Bio statistician                  25000 non-null  bool   \n",
            " 25  Role_Business Analyst                  25000 non-null  bool   \n",
            " 26  Role_CEO                               25000 non-null  bool   \n",
            " 27  Role_Consultant                        25000 non-null  bool   \n",
            " 28  Role_Data scientist                    25000 non-null  bool   \n",
            " 29  Role_Financial Analyst                 25000 non-null  bool   \n",
            " 30  Role_Head                              25000 non-null  bool   \n",
            " 31  Role_Others                            25000 non-null  bool   \n",
            " 32  Role_Principal Analyst                 25000 non-null  bool   \n",
            " 33  Role_Project Manager                   25000 non-null  bool   \n",
            " 34  Role_Sales Execituve                   25000 non-null  bool   \n",
            " 35  Role_Sales Manager                     25000 non-null  bool   \n",
            " 36  Role_Scientist                         25000 non-null  bool   \n",
            " 37  Role_Senior Analyst                    25000 non-null  bool   \n",
            " 38  Role_Senior Researcher                 25000 non-null  bool   \n",
            " 39  Role_Team Lead                         25000 non-null  bool   \n",
            " 40  Role_Unknown                           25000 non-null  bool   \n",
            " 41  Industry_Automobile                    25000 non-null  bool   \n",
            " 42  Industry_Aviation                      25000 non-null  bool   \n",
            " 43  Industry_BFSI                          25000 non-null  bool   \n",
            " 44  Industry_FMCG                          25000 non-null  bool   \n",
            " 45  Industry_IT                            25000 non-null  bool   \n",
            " 46  Industry_Insurance                     25000 non-null  bool   \n",
            " 47  Industry_Others                        25000 non-null  bool   \n",
            " 48  Industry_Retail                        25000 non-null  bool   \n",
            " 49  Industry_Telecom                       25000 non-null  bool   \n",
            " 50  Industry_Training                      25000 non-null  bool   \n",
            " 51  Designation_CA                         25000 non-null  bool   \n",
            " 52  Designation_Consultant                 25000 non-null  bool   \n",
            " 53  Designation_Data Analyst               25000 non-null  bool   \n",
            " 54  Designation_Director                   25000 non-null  bool   \n",
            " 55  Designation_HR                         25000 non-null  bool   \n",
            " 56  Designation_Manager                    25000 non-null  bool   \n",
            " 57  Designation_Marketing Manager          25000 non-null  bool   \n",
            " 58  Designation_Medical Officer            25000 non-null  bool   \n",
            " 59  Designation_Network Engineer           25000 non-null  bool   \n",
            " 60  Designation_Others                     25000 non-null  bool   \n",
            " 61  Designation_Product Manager            25000 non-null  bool   \n",
            " 62  Designation_Research Analyst           25000 non-null  bool   \n",
            " 63  Designation_Research Scientist         25000 non-null  bool   \n",
            " 64  Designation_Software Developer         25000 non-null  bool   \n",
            " 65  Designation_Sr.Manager                 25000 non-null  bool   \n",
            " 66  Designation_Web Designer               25000 non-null  bool   \n",
            " 67  Education_Grad                         25000 non-null  bool   \n",
            " 68  Education_PG                           25000 non-null  bool   \n",
            " 69  Education_Under Grad                   25000 non-null  bool   \n",
            " 70  Graduation_Specialization_Botony       25000 non-null  bool   \n",
            " 71  Graduation_Specialization_Chemistry    25000 non-null  bool   \n",
            " 72  Graduation_Specialization_Economics    25000 non-null  bool   \n",
            " 73  Graduation_Specialization_Engineering  25000 non-null  bool   \n",
            " 74  Graduation_Specialization_Mathematics  25000 non-null  bool   \n",
            " 75  Graduation_Specialization_Others       25000 non-null  bool   \n",
            " 76  Graduation_Specialization_Psychology   25000 non-null  bool   \n",
            " 77  Graduation_Specialization_Sociology    25000 non-null  bool   \n",
            " 78  Graduation_Specialization_Statistics   25000 non-null  bool   \n",
            " 79  Graduation_Specialization_Zoology      25000 non-null  bool   \n",
            " 80  PG_Specialization_Botony               25000 non-null  bool   \n",
            " 81  PG_Specialization_Chemistry            25000 non-null  bool   \n",
            " 82  PG_Specialization_Economics            25000 non-null  bool   \n",
            " 83  PG_Specialization_Engineering          25000 non-null  bool   \n",
            " 84  PG_Specialization_Mathematics          25000 non-null  bool   \n",
            " 85  PG_Specialization_Others               25000 non-null  bool   \n",
            " 86  PG_Specialization_Psychology           25000 non-null  bool   \n",
            " 87  PG_Specialization_Sociology            25000 non-null  bool   \n",
            " 88  PG_Specialization_Statistics           25000 non-null  bool   \n",
            " 89  PG_Specialization_Zoology              25000 non-null  bool   \n",
            "dtypes: bool(79), float64(3), int64(8)\n",
            "memory usage: 4.0 MB\n",
            "None\n",
            "Total_Experience                     0\n",
            "Total_Experience_in_field_applied    0\n",
            "Current_CTC                          0\n",
            "Inhand_Offer                         0\n",
            "Last_Appraisal_Rating                0\n",
            "                                    ..\n",
            "PG_Specialization_Others             0\n",
            "PG_Specialization_Psychology         0\n",
            "PG_Specialization_Sociology          0\n",
            "PG_Specialization_Statistics         0\n",
            "PG_Specialization_Zoology            0\n",
            "Length: 90, dtype: int64\n",
            "   Total_Experience  Total_Experience_in_field_applied  Current_CTC  \\\n",
            "0                 0                                  0            0   \n",
            "1                23                                 14      2702664   \n",
            "2                21                                 12      2236661   \n",
            "3                15                                  8      2100510   \n",
            "4                10                                  5      1931644   \n",
            "\n",
            "   Inhand_Offer  Last_Appraisal_Rating  No_Of_Companies_worked  \\\n",
            "0             0                    2.0                       0   \n",
            "1             1                    4.0                       2   \n",
            "2             1                    4.0                       5   \n",
            "3             0                    1.0                       5   \n",
            "4             0                    1.0                       2   \n",
            "\n",
            "   Certifications  International_degree_any  Expected_CTC  Years_Since_Grad  \\\n",
            "0               0                         0        384551               5.0   \n",
            "1               0                         0       3783729              37.0   \n",
            "2               0                         0       3131325              35.0   \n",
            "3               0                         0       2608833              28.0   \n",
            "4               0                         0       2221390              21.0   \n",
            "\n",
            "   ...  PG_Specialization_Botony  PG_Specialization_Chemistry  \\\n",
            "0  ...                     False                        False   \n",
            "1  ...                     False                        False   \n",
            "2  ...                     False                        False   \n",
            "3  ...                     False                        False   \n",
            "4  ...                     False                        False   \n",
            "\n",
            "   PG_Specialization_Economics  PG_Specialization_Engineering  \\\n",
            "0                        False                          False   \n",
            "1                        False                          False   \n",
            "2                        False                          False   \n",
            "3                        False                          False   \n",
            "4                        False                          False   \n",
            "\n",
            "   PG_Specialization_Mathematics  PG_Specialization_Others  \\\n",
            "0                          False                     False   \n",
            "1                          False                      True   \n",
            "2                          False                     False   \n",
            "3                          False                     False   \n",
            "4                          False                     False   \n",
            "\n",
            "   PG_Specialization_Psychology  PG_Specialization_Sociology  \\\n",
            "0                         False                        False   \n",
            "1                         False                        False   \n",
            "2                         False                        False   \n",
            "3                         False                        False   \n",
            "4                         False                        False   \n",
            "\n",
            "   PG_Specialization_Statistics  PG_Specialization_Zoology  \n",
            "0                         False                      False  \n",
            "1                         False                      False  \n",
            "2                         False                       True  \n",
            "3                         False                       True  \n",
            "4                         False                       True  \n",
            "\n",
            "[5 rows x 90 columns]\n"
          ]
        }
      ]
    },
    {
      "cell_type": "markdown",
      "source": [
        "### **✅TRAIN-TEST SPLIT AND TRAINING THE MODEL**"
      ],
      "metadata": {
        "id": "7RO2sETdlbp2"
      }
    },
    {
      "cell_type": "markdown",
      "source": [
        "Dividing the dataset into two parts:\n",
        "*   **Training set-** I used 80% of Dataset to train the model.\n",
        "*   **Testing set-** I used 20% of Dataset to do the testing of the model.\n",
        "\n"
      ],
      "metadata": {
        "id": "7hNQKQdZldX_"
      }
    },
    {
      "cell_type": "code",
      "source": [
        "from sklearn.model_selection import train_test_split\n",
        "\n",
        "X = df.drop(columns=['Expected_CTC'])\n",
        "y = df['Expected_CTC']\n",
        "\n",
        "X_train, X_test, y_train, y_test = train_test_split(X, y, test_size=0.2, random_state=42)       #spliting the data\n"
      ],
      "metadata": {
        "id": "6kNvGLs0nGR3"
      },
      "execution_count": null,
      "outputs": []
    },
    {
      "cell_type": "code",
      "source": [
        "from sklearn.preprocessing import StandardScaler\n",
        "\n",
        "scaler = StandardScaler()\n",
        "X_train_scaled = scaler.fit_transform(X_train)\n",
        "X_test_scaled = scaler.transform(X_test)\n"
      ],
      "metadata": {
        "id": "apBTm4fZnf3O"
      },
      "execution_count": null,
      "outputs": []
    },
    {
      "cell_type": "markdown",
      "source": [
        "**HOW TO CHOOSE THE MODEL**\n",
        "\n",
        "*   In the end, we are predicting a numeric value, i.e. Expected_CTC.\n",
        "*   Many features like experience, education, domain, Current_CTC, etc. are to be taken in consideration.\n",
        "\n",
        "Ultimately this is a regression problem, as our output (Expected CTC) is a continuous value.\n",
        "\n",
        "---\n",
        "Models that I think can be used are:\n",
        "*   Linear Regression\n",
        "*   Random Forest Regressor\n",
        "*   Gradient Boosting Regressor\n",
        "\n",
        "\n",
        "---\n",
        "\n",
        "I will use all these three models, and will check each of their accuracy.\n",
        "\n",
        "Here I am using Gradient Boosting Regressor Model.\n",
        "\n",
        "\n",
        "---\n",
        "\n"
      ],
      "metadata": {
        "id": "9g_9flFNlsRw"
      }
    },
    {
      "cell_type": "code",
      "source": [
        "from sklearn.ensemble import GradientBoostingRegressor\n",
        "from sklearn.metrics import r2_score, mean_absolute_error, mean_squared_error\n",
        "import numpy as np\n",
        "\n",
        "gbr = GradientBoostingRegressor(random_state=42)      #initializing and train model\n",
        "gbr.fit(X_train_scaled, y_train)\n",
        "\n",
        "y_pred = gbr.predict(X_test_scaled)       #predicting\n"
      ],
      "metadata": {
        "id": "iY331_OCni0i"
      },
      "execution_count": null,
      "outputs": []
    },
    {
      "cell_type": "markdown",
      "source": [
        "### **✅TESTING THE MODEL**"
      ],
      "metadata": {
        "id": "QJm5gMLgnOwK"
      }
    },
    {
      "cell_type": "markdown",
      "source": [
        "I created a dictionary with a random candidate's entries to test the model."
      ],
      "metadata": {
        "id": "rl84Pi2NnTYJ"
      }
    },
    {
      "cell_type": "code",
      "source": [
        "candidate_dict = {\n",
        "    'Total_Experience': 5,\n",
        "    'Total_Experience_in_field_applied': 4,\n",
        "    'Current_CTC': 800000,\n",
        "    'Inhand_Offer': 0,\n",
        "    'Last_Appraisal_Rating': 3,\n",
        "    'No_Of_Companies_worked': 2,\n",
        "    'Certifications': 1,\n",
        "    'International_degree_any': 0,\n",
        "    'Years_Since_Grad': 6,\n",
        "    'Years_Since_PG': 2,\n",
        "    'Role_Data scientist': 1,        #set the correct one-hot fields = 1\n",
        "    'Department_IT-Software': 1,\n",
        "    'Education_PG': 1,\n",
        "    'PG_Specialization_Engineering': 1}\n",
        "\n",
        "\n",
        "missing_cols = set(X.columns) - set(candidate_dict.keys())\n",
        "for col in missing_cols:\n",
        "    candidate_dict[col] = 0\n",
        "\n",
        "candidate_df = pd.DataFrame([candidate_dict])[X.columns]\n",
        "candidate_scaled = scaler.transform(candidate_df)\n",
        "\n",
        "predicted_salary = gbr.predict(candidate_scaled)[0]\n",
        "print(f\"Expected Salary (CTC): ₹{predicted_salary:,.2f}\")\n"
      ],
      "metadata": {
        "colab": {
          "base_uri": "https://localhost:8080/"
        },
        "id": "VXyNVO7knk60",
        "outputId": "b1912314-791e-4f4c-9fec-c2cd8d09e80e"
      },
      "execution_count": null,
      "outputs": [
        {
          "output_type": "stream",
          "name": "stdout",
          "text": [
            "Expected Salary (CTC): ₹1,033,461.71\n"
          ]
        }
      ]
    },
    {
      "cell_type": "markdown",
      "source": [
        "### **✅MODEL EVALUATION**"
      ],
      "metadata": {
        "id": "e2GVX5H2m-Y1"
      }
    },
    {
      "cell_type": "markdown",
      "source": [
        "Check how well the model performs after training. It helps measure the accuracy and errors.\n",
        "\n",
        "**MSE:** Measures the average squared difference between actual and predicted values.\n",
        "\n",
        "![Screenshot 2025-07-26 225910.png](data:image/png;base64,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)\n",
        "\n",
        "Useful for understanding how far predictions are from actual values.\n",
        "\n",
        "**Lower MSE = better model**\n",
        "\n",
        "**R² Score:**\n",
        "\n",
        "Ranges between 0 to 1 (or negative if very poor).\n",
        "\n",
        "Tells how good your model is compared to a baseline (mean) model.\n",
        "\n",
        "R² = 1 means perfect prediction, R² = 0 means predictions are no better than guessing the mean."
      ],
      "metadata": {
        "id": "adyYUPjXnCCf"
      }
    },
    {
      "cell_type": "code",
      "source": [
        "from sklearn.metrics import r2_score, mean_absolute_error, mean_squared_error\n",
        "import numpy as np\n",
        "\n",
        "print(\"R² Score:\", r2_score(y_test, y_pred))\n",
        "print(\"MAE:\", mean_absolute_error(y_test, y_pred))\n",
        "print(\"RMSE:\", np.sqrt(mean_squared_error(y_test, y_pred)))\n"
      ],
      "metadata": {
        "colab": {
          "base_uri": "https://localhost:8080/"
        },
        "id": "Y6BCTYfbp4z_",
        "outputId": "7ddf05fd-e06a-4cb4-d590-ef35df2d48dc"
      },
      "execution_count": null,
      "outputs": [
        {
          "output_type": "stream",
          "name": "stdout",
          "text": [
            "R² Score: 0.9954361344875179\n",
            "MAE: 53954.59205165681\n",
            "RMSE: 78565.38599828271\n"
          ]
        }
      ]
    },
    {
      "cell_type": "markdown",
      "source": [
        "### **✅FEATURE IMPORTANCE**"
      ],
      "metadata": {
        "id": "HC2lL-kinjEm"
      }
    },
    {
      "cell_type": "markdown",
      "source": [
        "Which input features or columns have the highest impact on the model's predictions."
      ],
      "metadata": {
        "id": "WonzqlPZnnF1"
      }
    },
    {
      "cell_type": "code",
      "source": [
        "import pandas as pd\n",
        "import matplotlib.pyplot as plt\n",
        "import numpy as np\n",
        "\n",
        "\n",
        "importances = gbr.feature_importances_              #get feature importances\n",
        "\n",
        "feature_importance_df = pd.DataFrame({\n",
        "    'Feature': X.columns,                  #feature names are in X.columns\n",
        "    'Importance': importances})\n",
        "\n",
        "feature_importance_df = feature_importance_df.sort_values(by='Importance', ascending=False)         #sorting by importance\n",
        "\n",
        "print(feature_importance_df.head(15))\n",
        "\n",
        "plt.figure(figsize=(10, 6))\n",
        "plt.barh(feature_importance_df['Feature'][:15][::-1], feature_importance_df['Importance'][:15][::-1])\n",
        "plt.title(\"Top 15 Feature Importances - Gradient Boosting Regressor\")\n",
        "plt.xlabel(\"Importance Score\")\n",
        "plt.tight_layout()\n",
        "plt.show()\n"
      ],
      "metadata": {
        "colab": {
          "base_uri": "https://localhost:8080/",
          "height": 885
        },
        "id": "F81o5WJzqJoj",
        "outputId": "976d6870-7c1e-4997-ee45-32c9bf64734f"
      },
      "execution_count": null,
      "outputs": [
        {
          "output_type": "stream",
          "name": "stdout",
          "text": [
            "                                  Feature  Importance\n",
            "2                             Current_CTC    0.987985\n",
            "4                   Last_Appraisal_Rating    0.005519\n",
            "66                         Education_Grad    0.002015\n",
            "68                   Education_Under Grad    0.001330\n",
            "3                            Inhand_Offer    0.001094\n",
            "67                           Education_PG    0.000853\n",
            "6                          Certifications    0.000452\n",
            "8                        Years_Since_Grad    0.000283\n",
            "0                        Total_Experience    0.000171\n",
            "9                          Years_Since_PG    0.000165\n",
            "5                  No_Of_Companies_worked    0.000097\n",
            "82          PG_Specialization_Engineering    0.000011\n",
            "1       Total_Experience_in_field_applied    0.000010\n",
            "73  Graduation_Specialization_Mathematics    0.000006\n",
            "23                  Role_Bio statistician    0.000003\n"
          ]
        },
        {
          "output_type": "display_data",
          "data": {
            "text/plain": [
              "<Figure size 1000x600 with 1 Axes>"
            ],
            "image/png": "[encoded data removed]"
          },
          "metadata": {}
        }
      ]
    },
    {
      "cell_type": "code",
      "source": [],
      "metadata": {
        "id": "ID6UIOU8qiv9"
      },
      "execution_count": null,
      "outputs": []
    }
  ]
}